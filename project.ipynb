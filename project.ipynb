{
 "cells": [
  {
   "cell_type": "markdown",
   "metadata": {
    "id": "nMBdGcvjC4Ji"
   },
   "source": [
    "# Курсовой проект\n"
   ]
  },
  {
   "cell_type": "markdown",
   "metadata": {},
   "source": [
    "Целевая метрика precision@5 > 25%  \n",
    "Сдаем ссылку на github с решением. На github должен быть файл recommendations.csv (user_id | [rec_1, rec_2, ...] с рекомендациями. rec_i - реальные id item-ов (из retail_train.csv)  "
   ]
  },
  {
   "cell_type": "code",
   "execution_count": 1,
   "metadata": {},
   "outputs": [],
   "source": [
    "# !pip install lightfm\n",
    "# !pip install lightgbm"
   ]
  },
  {
   "cell_type": "code",
   "execution_count": 2,
   "metadata": {},
   "outputs": [
    {
     "data": {
      "text/plain": [
       "'0.4.4'"
      ]
     },
     "execution_count": 2,
     "metadata": {},
     "output_type": "execute_result"
    }
   ],
   "source": [
    "import implicit\n",
    "implicit.__version__"
   ]
  },
  {
   "cell_type": "code",
   "execution_count": 3,
   "metadata": {},
   "outputs": [],
   "source": [
    "N_ = 200\n",
    "TOP_N = 2500"
   ]
  },
  {
   "cell_type": "code",
   "execution_count": 4,
   "metadata": {
    "id": "5Aur99NsC4Jm",
    "outputId": "9b9a338b-a52f-4253-9694-ac431b62eefc"
   },
   "outputs": [],
   "source": [
    "import pandas as pd\n",
    "import numpy as np\n",
    "import matplotlib.pyplot as plt\n",
    "%matplotlib inline\n",
    "\n",
    "from collections import Counter\n",
    "\n",
    "# Для работы с матрицами\n",
    "from scipy.sparse import csr_matrix\n",
    "\n",
    "# Матричная факторизация\n",
    "from implicit import als\n",
    "\n",
    "# Модель второго уровня\n",
    "from lightgbm import LGBMClassifier\n",
    "\n",
    "import os, sys\n",
    "module_path = os.path.abspath(os.path.join(os.curdir))\n",
    "if module_path not in sys.path:\n",
    "    sys.path.append(module_path)\n",
    "\n",
    "# Написанные нами функции\n",
    "from src.metrics import precision_at_k, recall_at_k\n",
    "from src.utils import prefilter_items\n",
    "from src.recommenders import MainRecommender"
   ]
  },
  {
   "cell_type": "code",
   "execution_count": 5,
   "metadata": {
    "id": "vso_erSdC4Jo",
    "outputId": "da20dbf1-3086-4fd6-ac92-f7653d7f9f71"
   },
   "outputs": [
    {
     "data": {
      "text/plain": [
       "((2108779, 12), (169711, 12), (169711, 12), (118314, 12))"
      ]
     },
     "execution_count": 5,
     "metadata": {},
     "output_type": "execute_result"
    }
   ],
   "source": [
    "data = pd.read_csv('../../../datasets/retail_train.csv')\n",
    "data_test = pd.read_csv('../../../datasets/retail_test1.csv')\n",
    "item_features = pd.read_csv('../../../datasets/product.csv')\n",
    "user_features = pd.read_csv('../../../datasets/hh_demographic.csv')\n",
    "\n",
    "# column processing\n",
    "item_features.columns = [col.lower() for col in item_features.columns]\n",
    "user_features.columns = [col.lower() for col in user_features.columns]\n",
    "\n",
    "item_features.rename(columns={'product_id': 'item_id'}, inplace=True)\n",
    "user_features.rename(columns={'household_key': 'user_id'}, inplace=True)\n",
    "\n",
    "\n",
    "# Важна схема обучения и валидации!\n",
    "# -- давние покупки -- | -- 6 недель -- | -- 3 недель -- \n",
    "# подобрать размер 2-ого датасета (6 недель) --> learning curve (зависимость метрики recall@k от размера датасета)\n",
    "val_lvl_1_size_weeks = 6\n",
    "val_lvl_2_size_weeks = 3\n",
    "\n",
    "data_train_lvl_1 = data[data['week_no'] < data['week_no'].max() - (val_lvl_1_size_weeks + val_lvl_2_size_weeks)]\n",
    "data_val_lvl_1 = data[(data['week_no'] >= data['week_no'].max() - (val_lvl_1_size_weeks + val_lvl_2_size_weeks)) &\n",
    "                      (data['week_no'] < data['week_no'].max() - (val_lvl_2_size_weeks))]\n",
    "\n",
    "data_train_lvl_2 = data_val_lvl_1.copy()  # Для наглядности. Далее мы добавим изменения, и они будут отличаться\n",
    "data_val_lvl_2 = data[data['week_no'] >= data['week_no'].max() - val_lvl_2_size_weeks]\n",
    "\n",
    "data_train_lvl_1.shape, data_val_lvl_1.shape, data_train_lvl_2.shape, data_val_lvl_2.shape"
   ]
  },
  {
   "cell_type": "code",
   "execution_count": 6,
   "metadata": {},
   "outputs": [
    {
     "data": {
      "text/html": [
       "<div>\n",
       "<style scoped>\n",
       "    .dataframe tbody tr th:only-of-type {\n",
       "        vertical-align: middle;\n",
       "    }\n",
       "\n",
       "    .dataframe tbody tr th {\n",
       "        vertical-align: top;\n",
       "    }\n",
       "\n",
       "    .dataframe thead th {\n",
       "        text-align: right;\n",
       "    }\n",
       "</style>\n",
       "<table border=\"1\" class=\"dataframe\">\n",
       "  <thead>\n",
       "    <tr style=\"text-align: right;\">\n",
       "      <th></th>\n",
       "      <th>user_id</th>\n",
       "      <th>basket_id</th>\n",
       "      <th>day</th>\n",
       "      <th>item_id</th>\n",
       "      <th>quantity</th>\n",
       "      <th>sales_value</th>\n",
       "      <th>store_id</th>\n",
       "      <th>retail_disc</th>\n",
       "      <th>trans_time</th>\n",
       "      <th>week_no</th>\n",
       "      <th>coupon_disc</th>\n",
       "      <th>coupon_match_disc</th>\n",
       "    </tr>\n",
       "  </thead>\n",
       "  <tbody>\n",
       "    <tr>\n",
       "      <th>0</th>\n",
       "      <td>1340</td>\n",
       "      <td>41652823310</td>\n",
       "      <td>664</td>\n",
       "      <td>912987</td>\n",
       "      <td>1</td>\n",
       "      <td>8.49</td>\n",
       "      <td>446</td>\n",
       "      <td>0.0</td>\n",
       "      <td>52</td>\n",
       "      <td>96</td>\n",
       "      <td>0.0</td>\n",
       "      <td>0.0</td>\n",
       "    </tr>\n",
       "    <tr>\n",
       "      <th>1</th>\n",
       "      <td>588</td>\n",
       "      <td>41652838477</td>\n",
       "      <td>664</td>\n",
       "      <td>1024426</td>\n",
       "      <td>1</td>\n",
       "      <td>6.29</td>\n",
       "      <td>388</td>\n",
       "      <td>0.0</td>\n",
       "      <td>8</td>\n",
       "      <td>96</td>\n",
       "      <td>0.0</td>\n",
       "      <td>0.0</td>\n",
       "    </tr>\n",
       "  </tbody>\n",
       "</table>\n",
       "</div>"
      ],
      "text/plain": [
       "   user_id    basket_id  day  item_id  quantity  sales_value  store_id  \\\n",
       "0     1340  41652823310  664   912987         1         8.49       446   \n",
       "1      588  41652838477  664  1024426         1         6.29       388   \n",
       "\n",
       "   retail_disc  trans_time  week_no  coupon_disc  coupon_match_disc  \n",
       "0          0.0          52       96          0.0                0.0  \n",
       "1          0.0           8       96          0.0                0.0  "
      ]
     },
     "execution_count": 6,
     "metadata": {},
     "output_type": "execute_result"
    }
   ],
   "source": [
    "data_test.head(2)"
   ]
  },
  {
   "cell_type": "code",
   "execution_count": 7,
   "metadata": {},
   "outputs": [
    {
     "data": {
      "text/html": [
       "<div>\n",
       "<style scoped>\n",
       "    .dataframe tbody tr th:only-of-type {\n",
       "        vertical-align: middle;\n",
       "    }\n",
       "\n",
       "    .dataframe tbody tr th {\n",
       "        vertical-align: top;\n",
       "    }\n",
       "\n",
       "    .dataframe thead th {\n",
       "        text-align: right;\n",
       "    }\n",
       "</style>\n",
       "<table border=\"1\" class=\"dataframe\">\n",
       "  <thead>\n",
       "    <tr style=\"text-align: right;\">\n",
       "      <th></th>\n",
       "      <th>department</th>\n",
       "    </tr>\n",
       "    <tr>\n",
       "      <th>item_id</th>\n",
       "      <th></th>\n",
       "    </tr>\n",
       "  </thead>\n",
       "  <tbody>\n",
       "    <tr>\n",
       "      <th>25671</th>\n",
       "      <td>GROCERY</td>\n",
       "    </tr>\n",
       "    <tr>\n",
       "      <th>26081</th>\n",
       "      <td>MISC. TRANS.</td>\n",
       "    </tr>\n",
       "    <tr>\n",
       "      <th>26093</th>\n",
       "      <td>PASTRY</td>\n",
       "    </tr>\n",
       "    <tr>\n",
       "      <th>26190</th>\n",
       "      <td>GROCERY</td>\n",
       "    </tr>\n",
       "    <tr>\n",
       "      <th>26355</th>\n",
       "      <td>GROCERY</td>\n",
       "    </tr>\n",
       "  </tbody>\n",
       "</table>\n",
       "</div>"
      ],
      "text/plain": [
       "           department\n",
       "item_id              \n",
       "25671         GROCERY\n",
       "26081    MISC. TRANS.\n",
       "26093          PASTRY\n",
       "26190         GROCERY\n",
       "26355         GROCERY"
      ]
     },
     "execution_count": 7,
     "metadata": {},
     "output_type": "execute_result"
    }
   ],
   "source": [
    "item_features[['item_id', 'department']].set_index('item_id').head()"
   ]
  },
  {
   "cell_type": "code",
   "execution_count": 8,
   "metadata": {},
   "outputs": [
    {
     "data": {
      "text/html": [
       "<div>\n",
       "<style scoped>\n",
       "    .dataframe tbody tr th:only-of-type {\n",
       "        vertical-align: middle;\n",
       "    }\n",
       "\n",
       "    .dataframe tbody tr th {\n",
       "        vertical-align: top;\n",
       "    }\n",
       "\n",
       "    .dataframe thead th {\n",
       "        text-align: right;\n",
       "    }\n",
       "</style>\n",
       "<table border=\"1\" class=\"dataframe\">\n",
       "  <thead>\n",
       "    <tr style=\"text-align: right;\">\n",
       "      <th></th>\n",
       "      <th>user_id</th>\n",
       "      <th>basket_id</th>\n",
       "      <th>day</th>\n",
       "      <th>item_id</th>\n",
       "      <th>quantity</th>\n",
       "      <th>sales_value</th>\n",
       "      <th>store_id</th>\n",
       "      <th>retail_disc</th>\n",
       "      <th>trans_time</th>\n",
       "      <th>week_no</th>\n",
       "      <th>coupon_disc</th>\n",
       "      <th>coupon_match_disc</th>\n",
       "    </tr>\n",
       "  </thead>\n",
       "  <tbody>\n",
       "    <tr>\n",
       "      <th>0</th>\n",
       "      <td>2375</td>\n",
       "      <td>26984851472</td>\n",
       "      <td>1</td>\n",
       "      <td>1004906</td>\n",
       "      <td>1</td>\n",
       "      <td>1.39</td>\n",
       "      <td>364</td>\n",
       "      <td>-0.60</td>\n",
       "      <td>1631</td>\n",
       "      <td>1</td>\n",
       "      <td>0.0</td>\n",
       "      <td>0.0</td>\n",
       "    </tr>\n",
       "    <tr>\n",
       "      <th>1</th>\n",
       "      <td>2375</td>\n",
       "      <td>26984851472</td>\n",
       "      <td>1</td>\n",
       "      <td>1033142</td>\n",
       "      <td>1</td>\n",
       "      <td>0.82</td>\n",
       "      <td>364</td>\n",
       "      <td>0.00</td>\n",
       "      <td>1631</td>\n",
       "      <td>1</td>\n",
       "      <td>0.0</td>\n",
       "      <td>0.0</td>\n",
       "    </tr>\n",
       "    <tr>\n",
       "      <th>2</th>\n",
       "      <td>2375</td>\n",
       "      <td>26984851472</td>\n",
       "      <td>1</td>\n",
       "      <td>1036325</td>\n",
       "      <td>1</td>\n",
       "      <td>0.99</td>\n",
       "      <td>364</td>\n",
       "      <td>-0.30</td>\n",
       "      <td>1631</td>\n",
       "      <td>1</td>\n",
       "      <td>0.0</td>\n",
       "      <td>0.0</td>\n",
       "    </tr>\n",
       "    <tr>\n",
       "      <th>3</th>\n",
       "      <td>2375</td>\n",
       "      <td>26984851472</td>\n",
       "      <td>1</td>\n",
       "      <td>1082185</td>\n",
       "      <td>1</td>\n",
       "      <td>1.21</td>\n",
       "      <td>364</td>\n",
       "      <td>0.00</td>\n",
       "      <td>1631</td>\n",
       "      <td>1</td>\n",
       "      <td>0.0</td>\n",
       "      <td>0.0</td>\n",
       "    </tr>\n",
       "    <tr>\n",
       "      <th>4</th>\n",
       "      <td>2375</td>\n",
       "      <td>26984851472</td>\n",
       "      <td>1</td>\n",
       "      <td>8160430</td>\n",
       "      <td>1</td>\n",
       "      <td>1.50</td>\n",
       "      <td>364</td>\n",
       "      <td>-0.39</td>\n",
       "      <td>1631</td>\n",
       "      <td>1</td>\n",
       "      <td>0.0</td>\n",
       "      <td>0.0</td>\n",
       "    </tr>\n",
       "  </tbody>\n",
       "</table>\n",
       "</div>"
      ],
      "text/plain": [
       "   user_id    basket_id  day  item_id  quantity  sales_value  store_id  \\\n",
       "0     2375  26984851472    1  1004906         1         1.39       364   \n",
       "1     2375  26984851472    1  1033142         1         0.82       364   \n",
       "2     2375  26984851472    1  1036325         1         0.99       364   \n",
       "3     2375  26984851472    1  1082185         1         1.21       364   \n",
       "4     2375  26984851472    1  8160430         1         1.50       364   \n",
       "\n",
       "   retail_disc  trans_time  week_no  coupon_disc  coupon_match_disc  \n",
       "0        -0.60        1631        1          0.0                0.0  \n",
       "1         0.00        1631        1          0.0                0.0  \n",
       "2        -0.30        1631        1          0.0                0.0  \n",
       "3         0.00        1631        1          0.0                0.0  \n",
       "4        -0.39        1631        1          0.0                0.0  "
      ]
     },
     "execution_count": 8,
     "metadata": {},
     "output_type": "execute_result"
    }
   ],
   "source": [
    "data.head()"
   ]
  },
  {
   "cell_type": "code",
   "execution_count": 9,
   "metadata": {
    "id": "zcnV3l4XC4Jp",
    "outputId": "d58f889c-0671-4bb9-b2b6-2dc2e8c24fce"
   },
   "outputs": [
    {
     "name": "stdout",
     "output_type": "stream",
     "text": [
      "Decreased # items from 83685 to 2501\n"
     ]
    }
   ],
   "source": [
    "#префильтр и оставляем топ-2500\n",
    "\n",
    "n_items_before = data_train_lvl_1['item_id'].nunique()\n",
    "data_train_lvl_1 = prefilter_items(data_train_lvl_1, item_features=item_features, take_n_popular=TOP_N)\n",
    "n_items_after = data_train_lvl_1['item_id'].nunique()\n",
    "print('Decreased # items from {} to {}'.format(n_items_before, n_items_after))"
   ]
  },
  {
   "cell_type": "markdown",
   "metadata": {},
   "source": [
    "Оставляем только пользователей, общих для всех датасетов"
   ]
  },
  {
   "cell_type": "code",
   "execution_count": 10,
   "metadata": {},
   "outputs": [
    {
     "data": {
      "text/plain": [
       "((1875484, 13), (163261, 12), (163261, 12), (115989, 12))"
      ]
     },
     "execution_count": 10,
     "metadata": {},
     "output_type": "execute_result"
    }
   ],
   "source": [
    "common_users = list(set(data_train_lvl_1.user_id.values)&(set(data_val_lvl_1.user_id.values))&set(data_val_lvl_2.user_id.values))\n",
    "\n",
    "data_train_lvl_1 = data_train_lvl_1[data_train_lvl_1.user_id.isin(common_users)]\n",
    "data_val_lvl_1 = data_val_lvl_1[data_val_lvl_1.user_id.isin(common_users)]\n",
    "data_train_lvl_2 = data_train_lvl_2[data_train_lvl_2.user_id.isin(common_users)]\n",
    "data_val_lvl_2 = data_val_lvl_2[data_val_lvl_2.user_id.isin(common_users)]\n",
    "\n",
    "data_train_lvl_1.shape, data_val_lvl_1.shape, data_train_lvl_2.shape, data_val_lvl_2.shape"
   ]
  },
  {
   "cell_type": "code",
   "execution_count": 11,
   "metadata": {},
   "outputs": [
    {
     "data": {
      "text/plain": [
       "(1915, 1915, 1915, 1915)"
      ]
     },
     "execution_count": 11,
     "metadata": {},
     "output_type": "execute_result"
    }
   ],
   "source": [
    "data_train_lvl_1.user_id.unique().size, data_val_lvl_1.user_id.unique().size, data_train_lvl_2.user_id.unique().size, data_val_lvl_2.user_id.unique().size"
   ]
  },
  {
   "cell_type": "code",
   "execution_count": 12,
   "metadata": {
    "colab": {
     "referenced_widgets": [
      "729d4287bb794971802d9da5e141f10a",
      "32375ef613474af6a0fcadb9255eb835"
     ]
    },
    "id": "zgYXRQ0lC4Jq",
    "outputId": "d9ea41ae-3b4d-41b4-fc46-90868ebb9894"
   },
   "outputs": [
    {
     "name": "stderr",
     "output_type": "stream",
     "text": [
      "WARNING:root:Intel MKL BLAS detected. Its highly recommend to set the environment variable 'export MKL_NUM_THREADS=1' to disable its internal multithreading\n"
     ]
    },
    {
     "data": {
      "application/vnd.jupyter.widget-view+json": {
       "model_id": "072fff0cc45e43d5b051406c510ec75a",
       "version_major": 2,
       "version_minor": 0
      },
      "text/plain": [
       "  0%|          | 0/25 [00:00<?, ?it/s]"
      ]
     },
     "metadata": {},
     "output_type": "display_data"
    },
    {
     "data": {
      "application/vnd.jupyter.widget-view+json": {
       "model_id": "bbb67227666a472ab405e5718ad1893d",
       "version_major": 2,
       "version_minor": 0
      },
      "text/plain": [
       "  0%|          | 0/2501 [00:00<?, ?it/s]"
      ]
     },
     "metadata": {},
     "output_type": "display_data"
    }
   ],
   "source": [
    "recommender = MainRecommender(data_train_lvl_1)"
   ]
  },
  {
   "cell_type": "markdown",
   "metadata": {
    "id": "Bqs9Sw_YC4Jt"
   },
   "source": [
    "### Подбор количества кандидатов в рекомендации, поиск балланса между максимизацией recall@k и потребелением ресурсов"
   ]
  },
  {
   "cell_type": "code",
   "execution_count": 13,
   "metadata": {
    "id": "frt2RzDWC4Jt",
    "outputId": "7c594abf-4a34-406b-9897-8bfbddf69a93"
   },
   "outputs": [
    {
     "data": {
      "text/html": [
       "<div>\n",
       "<style scoped>\n",
       "    .dataframe tbody tr th:only-of-type {\n",
       "        vertical-align: middle;\n",
       "    }\n",
       "\n",
       "    .dataframe tbody tr th {\n",
       "        vertical-align: top;\n",
       "    }\n",
       "\n",
       "    .dataframe thead th {\n",
       "        text-align: right;\n",
       "    }\n",
       "</style>\n",
       "<table border=\"1\" class=\"dataframe\">\n",
       "  <thead>\n",
       "    <tr style=\"text-align: right;\">\n",
       "      <th></th>\n",
       "      <th>user_id</th>\n",
       "      <th>actual</th>\n",
       "    </tr>\n",
       "  </thead>\n",
       "  <tbody>\n",
       "    <tr>\n",
       "      <th>0</th>\n",
       "      <td>1</td>\n",
       "      <td>[999999, 840361, 845307, 856942, 940947, 94580...</td>\n",
       "    </tr>\n",
       "    <tr>\n",
       "      <th>1</th>\n",
       "      <td>6</td>\n",
       "      <td>[840361, 999999, 863447, 907099, 927291, 97003...</td>\n",
       "    </tr>\n",
       "  </tbody>\n",
       "</table>\n",
       "</div>"
      ],
      "text/plain": [
       "   user_id                                             actual\n",
       "0        1  [999999, 840361, 845307, 856942, 940947, 94580...\n",
       "1        6  [840361, 999999, 863447, 907099, 927291, 97003..."
      ]
     },
     "execution_count": 13,
     "metadata": {},
     "output_type": "execute_result"
    }
   ],
   "source": [
    "result_lvl_1 = data_train_lvl_1.groupby('user_id')['item_id'].unique().reset_index()\n",
    "result_lvl_1 = result_lvl_1[result_lvl_1.user_id.isin(data_train_lvl_1.user_id.unique())]\n",
    "result_lvl_1.columns=['user_id', 'actual']\n",
    "result_lvl_1.head(2)"
   ]
  },
  {
   "cell_type": "code",
   "execution_count": 14,
   "metadata": {
    "id": "xM5W4mU4C4Jt"
   },
   "outputs": [],
   "source": [
    "import time\n",
    "def get_result_level_1_df(N_list, df):\n",
    "    result = dict()\n",
    "    for N in N_list:    \n",
    "        start_time = time.time()\n",
    "        df[f'als_rec_{N}'] = df['user_id'].apply(lambda x: recommender.get_als_recommendations(x, N=N))\n",
    "        print(f'Ready als_rec, N = {N}, Время: {round(time.time() - start_time, 1)} c')\n",
    "        start_time = time.time()\n",
    "        df[f'own_rec_{N}'] = df['user_id'].apply(lambda x: recommender.get_own_recommendations(x, N=N))\n",
    "        print(f'Ready own_rec, N = {N}, Время: {round(time.time() - start_time, 1)} c')\n",
    "        start_time = time.time()\n",
    "        df[f'similar_items_rec_{N}'] = df['user_id'].apply(lambda x: recommender.get_similar_items_recommendation(x, N=N))\n",
    "        print(f'Ready similar_items_rec, N = {N}, Время: {round(time.time() - start_time, 1)} c')\n",
    "#         start_time = time.time()\n",
    "#         df[f'similar_users_rec_{N}'] = df['user_id'].apply(lambda x: recommender.get_similar_users_recommendation(x, N=N))\n",
    "#         print(f'Ready similar_users_rec, N = {N}, Время: {round(time.time() - start_time, 1)} c')\n",
    "        for col_name in df.columns[2:]:\n",
    "            recallatk = df.apply(lambda row: recall_at_k(row[col_name], row[\"actual\"], k=N), axis=1).mean()\n",
    "#             print(f'{col_name}: {recall_at_k}')\n",
    "            result[f'{col_name}'] = recallatk\n",
    "            \n",
    "    return df, result "
   ]
  },
  {
   "cell_type": "code",
   "execution_count": 15,
   "metadata": {
    "scrolled": true
   },
   "outputs": [
    {
     "name": "stdout",
     "output_type": "stream",
     "text": [
      "Ready als_rec, N = 10, Время: 14.4 c\n",
      "Ready own_rec, N = 10, Время: 8.7 c\n",
      "Ready similar_items_rec, N = 10, Время: 1.9 c\n",
      "Ready als_rec, N = 20, Время: 14.1 c\n",
      "Ready own_rec, N = 20, Время: 8.4 c\n",
      "Ready similar_items_rec, N = 20, Время: 2.7 c\n",
      "Ready als_rec, N = 50, Время: 14.3 c\n",
      "Ready own_rec, N = 50, Время: 8.6 c\n",
      "Ready similar_items_rec, N = 50, Время: 4.8 c\n",
      "Ready als_rec, N = 100, Время: 14.5 c\n",
      "Ready own_rec, N = 100, Время: 8.6 c\n",
      "Ready similar_items_rec, N = 100, Время: 8.0 c\n",
      "Ready als_rec, N = 200, Время: 15.1 c\n",
      "Ready own_rec, N = 200, Время: 9.0 c\n",
      "Ready similar_items_rec, N = 200, Время: 12.8 c\n",
      "Ready als_rec, N = 500, Время: 16.5 c\n",
      "Ready own_rec, N = 500, Время: 9.0 c\n",
      "Ready similar_items_rec, N = 500, Время: 16.9 c\n",
      "Ready als_rec, N = 1000, Время: 18.8 c\n",
      "Ready own_rec, N = 1000, Время: 8.9 c\n",
      "Ready similar_items_rec, N = 1000, Время: 17.0 c\n"
     ]
    },
    {
     "data": {
      "text/plain": [
       "{'als_rec_10': 0.03874506164311251,\n",
       " 'own_rec_10': 0.09187033499435755,\n",
       " 'similar_items_rec_10': 0.03079056456599184,\n",
       " 'als_rec_20': 0.06790537383221718,\n",
       " 'own_rec_20': 0.16897952102205302,\n",
       " 'similar_items_rec_20': 0.05475032370520952,\n",
       " 'als_rec_50': 0.14014381856986974,\n",
       " 'own_rec_50': 0.3600849804458189,\n",
       " 'similar_items_rec_50': 0.11218799419135567,\n",
       " 'als_rec_100': 0.23211739908076687,\n",
       " 'own_rec_100': 0.5881086924464032,\n",
       " 'similar_items_rec_100': 0.1849186692795704,\n",
       " 'als_rec_200': 0.36944731139494674,\n",
       " 'own_rec_200': 0.8327548308379844,\n",
       " 'similar_items_rec_200': 0.29000924615570267,\n",
       " 'als_rec_500': 0.6201220569071852,\n",
       " 'own_rec_500': 0.977045735660664,\n",
       " 'similar_items_rec_500': 0.47672461451567644,\n",
       " 'als_rec_1000': 0.827146078134054,\n",
       " 'own_rec_1000': 0.9813322132107578,\n",
       " 'similar_items_rec_1000': 0.6511225089087782}"
      ]
     },
     "execution_count": 15,
     "metadata": {},
     "output_type": "execute_result"
    }
   ],
   "source": [
    "df, result = get_result_level_1_df([10, 20, 50, 100, 200, 500, 1000], result_lvl_1)\n",
    "result"
   ]
  },
  {
   "cell_type": "code",
   "execution_count": 16,
   "metadata": {},
   "outputs": [
    {
     "data": {
      "image/png": "[encoded data removed]",
      "text/plain": [
       "<Figure size 1440x720 with 1 Axes>"
      ]
     },
     "metadata": {
      "needs_background": "light"
     },
     "output_type": "display_data"
    }
   ],
   "source": [
    "plt.figure(figsize=(20,10))\n",
    "plt.plot([x[0] for x in Counter(result).most_common()], [x[1] for x in Counter(result).most_common()])\n",
    "plt.xticks(rotation=90)\n",
    "plt.show();"
   ]
  },
  {
   "cell_type": "markdown",
   "metadata": {},
   "source": [
    "Видно, что:\n",
    "- наиболее высокая метрика recall@k получается при алгоритме get_own_recommendations\n",
    "- независимо от выбираемого алгоритма, метрика растет с ростом к. При этом c ростом k будет увеличиваться и время формирования рекомендаций, поэтому требуется искать некоторый оптимум k. В данном случае представляется разумным остановиться на k = 200 - 500"
   ]
  },
  {
   "cell_type": "markdown",
   "metadata": {
    "id": "bAHJu3Z5C4Ju"
   },
   "source": [
    "### Генерация фичей, обучение модели второго уровня"
   ]
  },
  {
   "cell_type": "code",
   "execution_count": 17,
   "metadata": {},
   "outputs": [
    {
     "data": {
      "text/html": [
       "<div>\n",
       "<style scoped>\n",
       "    .dataframe tbody tr th:only-of-type {\n",
       "        vertical-align: middle;\n",
       "    }\n",
       "\n",
       "    .dataframe tbody tr th {\n",
       "        vertical-align: top;\n",
       "    }\n",
       "\n",
       "    .dataframe thead th {\n",
       "        text-align: right;\n",
       "    }\n",
       "</style>\n",
       "<table border=\"1\" class=\"dataframe\">\n",
       "  <thead>\n",
       "    <tr style=\"text-align: right;\">\n",
       "      <th></th>\n",
       "      <th>user_id</th>\n",
       "      <th>basket_id</th>\n",
       "      <th>day</th>\n",
       "      <th>item_id</th>\n",
       "      <th>quantity</th>\n",
       "      <th>sales_value</th>\n",
       "      <th>store_id</th>\n",
       "      <th>retail_disc</th>\n",
       "      <th>trans_time</th>\n",
       "      <th>week_no</th>\n",
       "      <th>coupon_disc</th>\n",
       "      <th>coupon_match_disc</th>\n",
       "      <th>price</th>\n",
       "    </tr>\n",
       "  </thead>\n",
       "  <tbody>\n",
       "    <tr>\n",
       "      <th>0</th>\n",
       "      <td>2375</td>\n",
       "      <td>26984851472</td>\n",
       "      <td>1</td>\n",
       "      <td>1004906</td>\n",
       "      <td>1</td>\n",
       "      <td>1.39</td>\n",
       "      <td>364</td>\n",
       "      <td>-0.6</td>\n",
       "      <td>1631</td>\n",
       "      <td>1</td>\n",
       "      <td>0.0</td>\n",
       "      <td>0.0</td>\n",
       "      <td>1.39</td>\n",
       "    </tr>\n",
       "    <tr>\n",
       "      <th>1</th>\n",
       "      <td>2375</td>\n",
       "      <td>26984851472</td>\n",
       "      <td>1</td>\n",
       "      <td>1033142</td>\n",
       "      <td>1</td>\n",
       "      <td>0.82</td>\n",
       "      <td>364</td>\n",
       "      <td>0.0</td>\n",
       "      <td>1631</td>\n",
       "      <td>1</td>\n",
       "      <td>0.0</td>\n",
       "      <td>0.0</td>\n",
       "      <td>0.82</td>\n",
       "    </tr>\n",
       "  </tbody>\n",
       "</table>\n",
       "</div>"
      ],
      "text/plain": [
       "   user_id    basket_id  day  item_id  quantity  sales_value  store_id  \\\n",
       "0     2375  26984851472    1  1004906         1         1.39       364   \n",
       "1     2375  26984851472    1  1033142         1         0.82       364   \n",
       "\n",
       "   retail_disc  trans_time  week_no  coupon_disc  coupon_match_disc  price  \n",
       "0         -0.6        1631        1          0.0                0.0   1.39  \n",
       "1          0.0        1631        1          0.0                0.0   0.82  "
      ]
     },
     "execution_count": 17,
     "metadata": {},
     "output_type": "execute_result"
    }
   ],
   "source": [
    "data_lvl_1 = pd.concat([data_train_lvl_1, data_val_lvl_1])\n",
    "data_lvl_1.head(2)"
   ]
  },
  {
   "cell_type": "code",
   "execution_count": 18,
   "metadata": {},
   "outputs": [
    {
     "data": {
      "text/plain": [
       "0.0    338331\n",
       "1.0     28421\n",
       "Name: target, dtype: int64"
      ]
     },
     "execution_count": 18,
     "metadata": {},
     "output_type": "execute_result"
    }
   ],
   "source": [
    "users_lvl_2 = pd.DataFrame(data_train_lvl_2['user_id'].unique())\n",
    "users_lvl_2.columns = ['user_id']\n",
    "\n",
    "train_users = data_train_lvl_1['user_id'].unique()\n",
    "users_lvl_2 = users_lvl_2[users_lvl_2['user_id'].isin(train_users)]\n",
    "\n",
    "users_lvl_2['candidates'] = users_lvl_2['user_id'].apply(lambda x: recommender.get_own_recommendations(x, N=N_))\n",
    "\n",
    "# разворачиваем товары\n",
    "df_items = users_lvl_2.apply(lambda x: pd.Series(x['candidates']), axis=1).stack().reset_index(level=1, drop=True)\n",
    "df_items.name = 'item_id'\n",
    "\n",
    "users_lvl_2 = users_lvl_2.drop('candidates', axis=1).join(df_items)\n",
    "users_lvl_2.head(2)\n",
    "\n",
    "data_train_lvl_2 = data_train_lvl_2[['user_id', 'item_id']].copy()\n",
    "data_train_lvl_2['target'] = 1  # тут только покупки \n",
    "\n",
    "# # Не хватает нулей в датасете, поэтому добавляем наших кандитатов в качестве нулей\n",
    "data_train_lvl_2 = users_lvl_2.merge(data_train_lvl_2, on=['user_id', 'item_id'], how='left')\n",
    "\n",
    "# # чистим дубликаты\n",
    "data_train_lvl_2 = data_train_lvl_2.drop_duplicates(subset=['user_id', 'item_id'])\n",
    "data_train_lvl_2['target'].fillna(0, inplace= True)\n",
    "\n",
    "data_train_lvl_2['target'].value_counts()"
   ]
  },
  {
   "cell_type": "code",
   "execution_count": 19,
   "metadata": {},
   "outputs": [
    {
     "data": {
      "text/html": [
       "<div>\n",
       "<style scoped>\n",
       "    .dataframe tbody tr th:only-of-type {\n",
       "        vertical-align: middle;\n",
       "    }\n",
       "\n",
       "    .dataframe tbody tr th {\n",
       "        vertical-align: top;\n",
       "    }\n",
       "\n",
       "    .dataframe thead th {\n",
       "        text-align: right;\n",
       "    }\n",
       "</style>\n",
       "<table border=\"1\" class=\"dataframe\">\n",
       "  <thead>\n",
       "    <tr style=\"text-align: right;\">\n",
       "      <th></th>\n",
       "      <th>user_id</th>\n",
       "      <th>item_id</th>\n",
       "    </tr>\n",
       "  </thead>\n",
       "  <tbody>\n",
       "    <tr>\n",
       "      <th>0</th>\n",
       "      <td>1340</td>\n",
       "      <td>1032549</td>\n",
       "    </tr>\n",
       "    <tr>\n",
       "      <th>0</th>\n",
       "      <td>1340</td>\n",
       "      <td>874736</td>\n",
       "    </tr>\n",
       "  </tbody>\n",
       "</table>\n",
       "</div>"
      ],
      "text/plain": [
       "   user_id  item_id\n",
       "0     1340  1032549\n",
       "0     1340   874736"
      ]
     },
     "execution_count": 19,
     "metadata": {},
     "output_type": "execute_result"
    }
   ],
   "source": [
    "users_test = pd.DataFrame(data_test['user_id'].unique()).rename(columns={0:'user_id'})\n",
    "users_test['candidates'] = users_test['user_id'].apply(lambda x: recommender.get_own_recommendations(x, N=N_))\n",
    "\n",
    "df_items = users_test.apply(lambda x: pd.Series(x['candidates']), axis=1).stack().reset_index(level=1, drop=True)\n",
    "df_items.name = 'item_id'\n",
    "\n",
    "users_test = users_test.drop('candidates', axis=1).join(df_items)\n",
    "users_test.head(2)"
   ]
  },
  {
   "cell_type": "code",
   "execution_count": 20,
   "metadata": {},
   "outputs": [],
   "source": [
    "def feature_generation(data_lvl_1, data_train_lvl_2, user_features, item_features):\n",
    "    # user_features\n",
    "    \n",
    "    # средний чек\n",
    "    user_average_bill = data_lvl_1.groupby([\"user_id\", \"basket_id\"])[['price']].mean().\\\n",
    "                                        groupby('user_id')['price'].mean()\n",
    "    user_average_bill.name = \"user_average_bill\"\n",
    "    user_features = user_features.merge(user_average_bill, how = 'left', on = 'user_id')\n",
    "    \n",
    "    # среднее количество покупок в неделю/месяц\n",
    "    data_lvl_1['month'] = data_lvl_1['day'].apply(lambda x: (x+30)//30)\n",
    "\n",
    "    user_monthes_sum_purchase = data_lvl_1.groupby([\"user_id\"])[\"month\"].nunique()\n",
    "    user_sum_purchases = data_lvl_1.groupby(['user_id'])['basket_id'].nunique()\n",
    "    user_purchases_freq_per_month = user_sum_purchases / user_monthes_sum_purchase\n",
    "    user_purchases_freq_per_month.name = \"user_purchases_freq_per_month\"\n",
    "\n",
    "    user_weeks_sum_purchase = data_lvl_1.groupby([\"user_id\"])[\"week_no\"].nunique()\n",
    "    user_purchases_freq_per_week = user_sum_purchases / user_weeks_sum_purchase\n",
    "    user_purchases_freq_per_week.name = \"user_purchases_freq_per_week\"\n",
    "\n",
    "    user_features = user_features.merge(user_purchases_freq_per_month, how = 'left', on = 'user_id')\n",
    "    user_features = user_features.merge(user_purchases_freq_per_week, how = 'left', on = 'user_id')\n",
    "    \n",
    "    # item features\n",
    "    \n",
    "    # Среднее кол-во покупок item_id в неделю\n",
    "    item_per_week = data_lvl_1.groupby('item_id')['quantity'].sum().rename('item_per_week') / data_lvl_1['week_no'].max()\n",
    "    item_features = item_features.merge(item_per_week, how='left', on='item_id', suffixes=(False, False))\n",
    "\n",
    "    # Средняя частота item в корзине\n",
    "    item_freq_per_basket = data_lvl_1.groupby(['item_id']).agg('user_id').count().rename('item_freq_per_basket')/data_lvl_1.basket_id.nunique()\n",
    "    item_features = item_features.merge(item_freq_per_basket, how='left', on='item_id', suffixes=(False, False))\n",
    "\n",
    "    # цена\n",
    "    item_price = data_lvl_1.groupby(['item_id']).agg({'quantity': 'sum', 'sales_value': 'sum'})\n",
    "    item_price = item_price['sales_value'] / item_price['quantity']\n",
    "    item_price.name = 'item_price'\n",
    "    item_features = item_features.merge(item_price, how='left', on=\"item_id\", suffixes=(False, False))\n",
    "\n",
    "    # Среднее кол-во покупок 1 товара в категории в неделю\n",
    "\n",
    "    data_categ = pd.merge(data_lvl_1, item_features, how='inner', on='item_id')\n",
    "    categ_freq_ = data_categ.groupby(['department'])['quantity'].sum()\n",
    "    categ_item_freq_ = data_categ.groupby(['department', 'item_id'])['quantity'].sum().reset_index()\n",
    "    categ_freq = pd.merge(categ_item_freq_, categ_freq_, on='department')\n",
    "    categ_freq['category_freq'] = categ_freq['quantity_y'] / data_lvl_1['week_no'].max() / categ_freq['quantity_x']\n",
    "    categ_freq.set_index('item_id', inplace=True)\n",
    "    category_freq = categ_freq['category_freq']\n",
    "    item_features = item_features.merge(category_freq, how='left', on='item_id', suffixes=(False, False))\n",
    "    \n",
    "    # (Кол-во покупок юзером конкретной категории в неделю) / (Среднее кол-во покупок всеми юзерами конкретной категории в неделю)\n",
    "    categ_user_freq_ = data_categ.groupby(['user_id', 'department'])['quantity'].sum().reset_index()\n",
    "    categ_user_freq_['category_freq'] = categ_user_freq_['quantity'] / data_lvl_1['week_no'].max()\n",
    "    categ_user_freq = pd.merge(categ_user_freq_, categ_freq_, on='department')\n",
    "    categ_user_freq['avg_weekly_freq'] = categ_user_freq['quantity_y'] / data_lvl_1['week_no'].max()\n",
    "    categ_user_freq['freq_ratio_2'] = categ_user_freq['category_freq'] / categ_user_freq['avg_weekly_freq']\n",
    "    user_dep_ratio_2 = categ_user_freq.filter(['user_id', 'department', 'freq_ratio_2'], axis=1)\n",
    "\n",
    "    # (Кол-во покупок юзером конкретной категории в неделю) - (Среднее кол-во покупок всеми юзерами конкретной категории в неделю)\n",
    "    categ_user_freq['freq_ratio_3'] = categ_user_freq['category_freq'] - categ_user_freq['avg_weekly_freq']\n",
    "    user_dep_ratio_3 = categ_user_freq.filter(['user_id', 'department', 'freq_ratio_3'], axis=1)\n",
    "\n",
    "    data_train_lvl_2 = data_train_lvl_2.merge(user_features, on='user_id', how='left', suffixes=(False, False))\n",
    "#     data_train_lvl_2 = data_train_lvl_2.merge(item_features, on='item_id', how='left', suffixes=(False, False))\n",
    "#     data_train_lvl_2 = pd.merge(data_train_lvl_2, user_dep_ratio_2, on=['user_id', 'department'], how='left')\n",
    "#     data_train_lvl_2 = pd.merge(data_train_lvl_2, user_dep_ratio_3, on=['user_id', 'department'], how='left')\n",
    "    \n",
    "    data_train_lvl_2 = data_train_lvl_2.merge(data_train_lvl_1.groupby(by='item_id').\\\n",
    "                                          agg('sales_value').sum().rename('total_item_sales_value'), how='left',on='item_id')\n",
    "    data_train_lvl_2 = data_train_lvl_2.merge(data_train_lvl_1.groupby(by='item_id').\\\n",
    "                                              agg('quantity').sum().rename('total_quantity_value'), how='left',on='item_id')\n",
    "    data_train_lvl_2 = data_train_lvl_2.merge(data_train_lvl_1.groupby(by='item_id').\\\n",
    "                                              agg(\"user_id\").count().rename('item_freq'), how='left',on='item_id')\n",
    "    data_train_lvl_2 = data_train_lvl_2.merge(data_train_lvl_1.groupby(by=\"user_id\").\\\n",
    "                                              agg(\"user_id\").count().rename('user_freq'), how='left',on=\"user_id\")\n",
    "    data_train_lvl_2 = data_train_lvl_2.merge(data_train_lvl_1.groupby(by=\"user_id\").\\\n",
    "                                              agg('sales_value').sum().rename('total_user_sales_value'), how='left',on=\"user_id\")\n",
    "    data_train_lvl_2 = data_train_lvl_2.merge(data_train_lvl_1.groupby(by='item_id').\\\n",
    "                                              agg('quantity').sum().rename('item_quantity_per_week')/data_train_lvl_1.week_no.nunique(), how='left',on='item_id')\n",
    "    data_train_lvl_2 = data_train_lvl_2.merge(data_train_lvl_1.groupby(by=\"user_id\").\\\n",
    "                                              agg('quantity').sum().rename('user_quantity_per_week')/data_train_lvl_1.week_no.nunique(), how='left',on=\"user_id\")\n",
    "    data_train_lvl_2 = data_train_lvl_2.merge(data_train_lvl_1.groupby(by='item_id').\\\n",
    "                                              agg('quantity').sum().rename('item_quantity_per_basket')/data_train_lvl_1.basket_id.nunique(), how='left',on='item_id')\n",
    "    data_train_lvl_2 = data_train_lvl_2.merge(data_train_lvl_1.groupby(by=\"user_id\").\\\n",
    "                                              agg('quantity').sum().rename('user_quantity_per_baskter')/data_train_lvl_1.basket_id.nunique(), how='left',on=\"user_id\")\n",
    "    data_train_lvl_2 = data_train_lvl_2.merge(data_train_lvl_1.groupby(by='item_id').\\\n",
    "                                              agg(\"user_id\").count().rename('item_freq_per_basket')/data_train_lvl_1.basket_id.nunique(), how='left',on='item_id')\n",
    "    data_train_lvl_2 = data_train_lvl_2.merge(data_train_lvl_1.groupby(by=\"user_id\").\\\n",
    "                                              agg(\"user_id\").count().rename('user_freq_per_basket')/data_train_lvl_1.basket_id.nunique(), how='left',on=\"user_id\")\n",
    "    \n",
    "    return data_train_lvl_2\n",
    "        "
   ]
  },
  {
   "cell_type": "code",
   "execution_count": 21,
   "metadata": {},
   "outputs": [],
   "source": [
    "data_train_lvl_2 = feature_generation(data_lvl_1, data_train_lvl_2, user_features, item_features)\n",
    "data_test = feature_generation(data_lvl_1, data_test, user_features, item_features)"
   ]
  },
  {
   "cell_type": "code",
   "execution_count": 22,
   "metadata": {},
   "outputs": [
    {
     "data": {
      "text/html": [
       "<div>\n",
       "<style scoped>\n",
       "    .dataframe tbody tr th:only-of-type {\n",
       "        vertical-align: middle;\n",
       "    }\n",
       "\n",
       "    .dataframe tbody tr th {\n",
       "        vertical-align: top;\n",
       "    }\n",
       "\n",
       "    .dataframe thead th {\n",
       "        text-align: right;\n",
       "    }\n",
       "</style>\n",
       "<table border=\"1\" class=\"dataframe\">\n",
       "  <thead>\n",
       "    <tr style=\"text-align: right;\">\n",
       "      <th></th>\n",
       "      <th>user_id</th>\n",
       "      <th>item_id</th>\n",
       "      <th>age_desc</th>\n",
       "      <th>marital_status_code</th>\n",
       "      <th>income_desc</th>\n",
       "      <th>homeowner_desc</th>\n",
       "      <th>hh_comp_desc</th>\n",
       "      <th>household_size_desc</th>\n",
       "      <th>kid_category_desc</th>\n",
       "      <th>user_average_bill</th>\n",
       "      <th>...</th>\n",
       "      <th>total_quantity_value</th>\n",
       "      <th>item_freq</th>\n",
       "      <th>user_freq</th>\n",
       "      <th>total_user_sales_value</th>\n",
       "      <th>item_quantity_per_week</th>\n",
       "      <th>user_quantity_per_week</th>\n",
       "      <th>item_quantity_per_basket</th>\n",
       "      <th>user_quantity_per_baskter</th>\n",
       "      <th>item_freq_per_basket</th>\n",
       "      <th>user_freq_per_basket</th>\n",
       "    </tr>\n",
       "  </thead>\n",
       "  <tbody>\n",
       "    <tr>\n",
       "      <th>0</th>\n",
       "      <td>2070</td>\n",
       "      <td>834103</td>\n",
       "      <td>45-54</td>\n",
       "      <td>U</td>\n",
       "      <td>50-74K</td>\n",
       "      <td>Unknown</td>\n",
       "      <td>Unknown</td>\n",
       "      <td>1</td>\n",
       "      <td>None/Unknown</td>\n",
       "      <td>1.53653</td>\n",
       "      <td>...</td>\n",
       "      <td>464</td>\n",
       "      <td>427</td>\n",
       "      <td>1771</td>\n",
       "      <td>4853.5</td>\n",
       "      <td>5.458824</td>\n",
       "      <td>29.341176</td>\n",
       "      <td>0.002509</td>\n",
       "      <td>0.013484</td>\n",
       "      <td>0.002309</td>\n",
       "      <td>0.009575</td>\n",
       "    </tr>\n",
       "    <tr>\n",
       "      <th>1</th>\n",
       "      <td>2070</td>\n",
       "      <td>1085604</td>\n",
       "      <td>45-54</td>\n",
       "      <td>U</td>\n",
       "      <td>50-74K</td>\n",
       "      <td>Unknown</td>\n",
       "      <td>Unknown</td>\n",
       "      <td>1</td>\n",
       "      <td>None/Unknown</td>\n",
       "      <td>1.53653</td>\n",
       "      <td>...</td>\n",
       "      <td>2737</td>\n",
       "      <td>2436</td>\n",
       "      <td>1771</td>\n",
       "      <td>4853.5</td>\n",
       "      <td>32.200000</td>\n",
       "      <td>29.341176</td>\n",
       "      <td>0.014797</td>\n",
       "      <td>0.013484</td>\n",
       "      <td>0.013170</td>\n",
       "      <td>0.009575</td>\n",
       "    </tr>\n",
       "  </tbody>\n",
       "</table>\n",
       "<p>2 rows × 23 columns</p>\n",
       "</div>"
      ],
      "text/plain": [
       "   user_id  item_id age_desc marital_status_code income_desc homeowner_desc  \\\n",
       "0     2070   834103    45-54                   U      50-74K        Unknown   \n",
       "1     2070  1085604    45-54                   U      50-74K        Unknown   \n",
       "\n",
       "  hh_comp_desc household_size_desc kid_category_desc  user_average_bill  ...  \\\n",
       "0      Unknown                   1      None/Unknown            1.53653  ...   \n",
       "1      Unknown                   1      None/Unknown            1.53653  ...   \n",
       "\n",
       "   total_quantity_value  item_freq  user_freq  total_user_sales_value  \\\n",
       "0                   464        427       1771                  4853.5   \n",
       "1                  2737       2436       1771                  4853.5   \n",
       "\n",
       "   item_quantity_per_week  user_quantity_per_week  item_quantity_per_basket  \\\n",
       "0                5.458824               29.341176                  0.002509   \n",
       "1               32.200000               29.341176                  0.014797   \n",
       "\n",
       "   user_quantity_per_baskter  item_freq_per_basket  user_freq_per_basket  \n",
       "0                   0.013484              0.002309              0.009575  \n",
       "1                   0.013484              0.013170              0.009575  \n",
       "\n",
       "[2 rows x 23 columns]"
      ]
     },
     "execution_count": 22,
     "metadata": {},
     "output_type": "execute_result"
    }
   ],
   "source": [
    "X_train = data_train_lvl_2.drop('target', axis=1)\n",
    "y_train = data_train_lvl_2[['target']]\n",
    "X_train.head(2)"
   ]
  },
  {
   "cell_type": "code",
   "execution_count": 23,
   "metadata": {},
   "outputs": [
    {
     "data": {
      "text/plain": [
       "['age_desc',\n",
       " 'marital_status_code',\n",
       " 'income_desc',\n",
       " 'homeowner_desc',\n",
       " 'hh_comp_desc',\n",
       " 'household_size_desc',\n",
       " 'kid_category_desc',\n",
       " 'user_average_bill',\n",
       " 'user_purchases_freq_per_month',\n",
       " 'user_purchases_freq_per_week',\n",
       " 'total_item_sales_value',\n",
       " 'total_quantity_value',\n",
       " 'item_freq',\n",
       " 'user_freq',\n",
       " 'total_user_sales_value',\n",
       " 'item_quantity_per_week',\n",
       " 'user_quantity_per_week',\n",
       " 'item_quantity_per_basket',\n",
       " 'user_quantity_per_baskter',\n",
       " 'item_freq_per_basket',\n",
       " 'user_freq_per_basket']"
      ]
     },
     "execution_count": 23,
     "metadata": {},
     "output_type": "execute_result"
    }
   ],
   "source": [
    "cat_feats = X_train.columns[2:].tolist()\n",
    "X_train[cat_feats] = X_train[cat_feats].astype('category')\n",
    "cat_feats"
   ]
  },
  {
   "cell_type": "code",
   "execution_count": 24,
   "metadata": {},
   "outputs": [
    {
     "name": "stderr",
     "output_type": "stream",
     "text": [
      "D:\\Anaconda\\envs\\implicit\\lib\\site-packages\\sklearn\\preprocessing\\_label.py:98: DataConversionWarning: A column-vector y was passed when a 1d array was expected. Please change the shape of y to (n_samples, ), for example using ravel().\n",
      "  y = column_or_1d(y, warn=True)\n",
      "D:\\Anaconda\\envs\\implicit\\lib\\site-packages\\sklearn\\preprocessing\\_label.py:133: DataConversionWarning: A column-vector y was passed when a 1d array was expected. Please change the shape of y to (n_samples, ), for example using ravel().\n",
      "  y = column_or_1d(y, warn=True)\n",
      "D:\\Anaconda\\envs\\implicit\\lib\\site-packages\\lightgbm\\basic.py:1513: UserWarning: categorical_column in param dict is overridden.\n",
      "  _log_warning(f'{cat_alias} in param dict is overridden.')\n"
     ]
    },
    {
     "name": "stdout",
     "output_type": "stream",
     "text": [
      "CPU times: total: 9min 12s\n",
      "Wall time: 24.2 s\n"
     ]
    }
   ],
   "source": [
    "%%time\n",
    "\n",
    "lgb = LGBMClassifier(objective='binary',\n",
    "                     max_depth=25,\n",
    "                     n_estimators=2000,\n",
    "                     learning_rate=0.25,\n",
    "                     categorical_column=cat_feats)\n",
    "\n",
    "lgb.fit(X_train, y_train)\n",
    "\n",
    "train_preds = lgb.predict_proba(X_train)"
   ]
  },
  {
   "cell_type": "code",
   "execution_count": 25,
   "metadata": {},
   "outputs": [
    {
     "name": "stderr",
     "output_type": "stream",
     "text": [
      "C:\\Users\\admin\\AppData\\Local\\Temp\\ipykernel_13716\\3722597946.py:2: SettingWithCopyWarning: \n",
      "A value is trying to be set on a copy of a slice from a DataFrame.\n",
      "Try using .loc[row_indexer,col_indexer] = value instead\n",
      "\n",
      "See the caveats in the documentation: https://pandas.pydata.org/pandas-docs/stable/user_guide/indexing.html#returning-a-view-versus-a-copy\n",
      "  X_test[cat_feats] = X_test[cat_feats].astype('category')\n"
     ]
    },
    {
     "data": {
      "text/html": [
       "<div>\n",
       "<style scoped>\n",
       "    .dataframe tbody tr th:only-of-type {\n",
       "        vertical-align: middle;\n",
       "    }\n",
       "\n",
       "    .dataframe tbody tr th {\n",
       "        vertical-align: top;\n",
       "    }\n",
       "\n",
       "    .dataframe thead th {\n",
       "        text-align: right;\n",
       "    }\n",
       "</style>\n",
       "<table border=\"1\" class=\"dataframe\">\n",
       "  <thead>\n",
       "    <tr style=\"text-align: right;\">\n",
       "      <th></th>\n",
       "      <th>age_desc</th>\n",
       "      <th>marital_status_code</th>\n",
       "      <th>income_desc</th>\n",
       "      <th>homeowner_desc</th>\n",
       "      <th>hh_comp_desc</th>\n",
       "      <th>household_size_desc</th>\n",
       "      <th>kid_category_desc</th>\n",
       "      <th>user_average_bill</th>\n",
       "      <th>user_purchases_freq_per_month</th>\n",
       "      <th>user_purchases_freq_per_week</th>\n",
       "      <th>...</th>\n",
       "      <th>user_freq</th>\n",
       "      <th>total_user_sales_value</th>\n",
       "      <th>item_quantity_per_week</th>\n",
       "      <th>user_quantity_per_week</th>\n",
       "      <th>item_quantity_per_basket</th>\n",
       "      <th>user_quantity_per_baskter</th>\n",
       "      <th>item_freq_per_basket</th>\n",
       "      <th>user_freq_per_basket</th>\n",
       "      <th>user_id</th>\n",
       "      <th>item_id</th>\n",
       "    </tr>\n",
       "  </thead>\n",
       "  <tbody>\n",
       "    <tr>\n",
       "      <th>0</th>\n",
       "      <td>NaN</td>\n",
       "      <td>NaN</td>\n",
       "      <td>NaN</td>\n",
       "      <td>NaN</td>\n",
       "      <td>NaN</td>\n",
       "      <td>NaN</td>\n",
       "      <td>NaN</td>\n",
       "      <td>NaN</td>\n",
       "      <td>NaN</td>\n",
       "      <td>NaN</td>\n",
       "      <td>...</td>\n",
       "      <td>160.0</td>\n",
       "      <td>413.70</td>\n",
       "      <td>NaN</td>\n",
       "      <td>2.141176</td>\n",
       "      <td>NaN</td>\n",
       "      <td>0.000984</td>\n",
       "      <td>NaN</td>\n",
       "      <td>0.000865</td>\n",
       "      <td>1340</td>\n",
       "      <td>912987</td>\n",
       "    </tr>\n",
       "    <tr>\n",
       "      <th>1</th>\n",
       "      <td>35-44</td>\n",
       "      <td>A</td>\n",
       "      <td>50-74K</td>\n",
       "      <td>Homeowner</td>\n",
       "      <td>2 Adults Kids</td>\n",
       "      <td>5+</td>\n",
       "      <td>3+</td>\n",
       "      <td>3.243869</td>\n",
       "      <td>8.590909</td>\n",
       "      <td>2.554054</td>\n",
       "      <td>...</td>\n",
       "      <td>2509.0</td>\n",
       "      <td>6340.59</td>\n",
       "      <td>NaN</td>\n",
       "      <td>35.705882</td>\n",
       "      <td>NaN</td>\n",
       "      <td>0.016409</td>\n",
       "      <td>NaN</td>\n",
       "      <td>0.013565</td>\n",
       "      <td>588</td>\n",
       "      <td>1024426</td>\n",
       "    </tr>\n",
       "    <tr>\n",
       "      <th>2</th>\n",
       "      <td>45-54</td>\n",
       "      <td>U</td>\n",
       "      <td>50-74K</td>\n",
       "      <td>Unknown</td>\n",
       "      <td>Unknown</td>\n",
       "      <td>1</td>\n",
       "      <td>None/Unknown</td>\n",
       "      <td>1.536530</td>\n",
       "      <td>25.157895</td>\n",
       "      <td>6.128205</td>\n",
       "      <td>...</td>\n",
       "      <td>1771.0</td>\n",
       "      <td>4853.50</td>\n",
       "      <td>188.282353</td>\n",
       "      <td>29.341176</td>\n",
       "      <td>0.086525</td>\n",
       "      <td>0.013484</td>\n",
       "      <td>0.049296</td>\n",
       "      <td>0.009575</td>\n",
       "      <td>2070</td>\n",
       "      <td>995242</td>\n",
       "    </tr>\n",
       "    <tr>\n",
       "      <th>3</th>\n",
       "      <td>NaN</td>\n",
       "      <td>NaN</td>\n",
       "      <td>NaN</td>\n",
       "      <td>NaN</td>\n",
       "      <td>NaN</td>\n",
       "      <td>NaN</td>\n",
       "      <td>NaN</td>\n",
       "      <td>NaN</td>\n",
       "      <td>NaN</td>\n",
       "      <td>NaN</td>\n",
       "      <td>...</td>\n",
       "      <td>1833.0</td>\n",
       "      <td>5463.66</td>\n",
       "      <td>NaN</td>\n",
       "      <td>27.341176</td>\n",
       "      <td>NaN</td>\n",
       "      <td>0.012565</td>\n",
       "      <td>NaN</td>\n",
       "      <td>0.009910</td>\n",
       "      <td>1602</td>\n",
       "      <td>827939</td>\n",
       "    </tr>\n",
       "    <tr>\n",
       "      <th>4</th>\n",
       "      <td>NaN</td>\n",
       "      <td>NaN</td>\n",
       "      <td>NaN</td>\n",
       "      <td>NaN</td>\n",
       "      <td>NaN</td>\n",
       "      <td>NaN</td>\n",
       "      <td>NaN</td>\n",
       "      <td>NaN</td>\n",
       "      <td>NaN</td>\n",
       "      <td>NaN</td>\n",
       "      <td>...</td>\n",
       "      <td>1833.0</td>\n",
       "      <td>5463.66</td>\n",
       "      <td>NaN</td>\n",
       "      <td>27.341176</td>\n",
       "      <td>NaN</td>\n",
       "      <td>0.012565</td>\n",
       "      <td>NaN</td>\n",
       "      <td>0.009910</td>\n",
       "      <td>1602</td>\n",
       "      <td>927712</td>\n",
       "    </tr>\n",
       "  </tbody>\n",
       "</table>\n",
       "<p>5 rows × 23 columns</p>\n",
       "</div>"
      ],
      "text/plain": [
       "  age_desc marital_status_code income_desc homeowner_desc   hh_comp_desc  \\\n",
       "0      NaN                 NaN         NaN            NaN            NaN   \n",
       "1    35-44                   A      50-74K      Homeowner  2 Adults Kids   \n",
       "2    45-54                   U      50-74K        Unknown        Unknown   \n",
       "3      NaN                 NaN         NaN            NaN            NaN   \n",
       "4      NaN                 NaN         NaN            NaN            NaN   \n",
       "\n",
       "  household_size_desc kid_category_desc user_average_bill  \\\n",
       "0                 NaN               NaN               NaN   \n",
       "1                  5+                3+          3.243869   \n",
       "2                   1      None/Unknown          1.536530   \n",
       "3                 NaN               NaN               NaN   \n",
       "4                 NaN               NaN               NaN   \n",
       "\n",
       "  user_purchases_freq_per_month user_purchases_freq_per_week  ... user_freq  \\\n",
       "0                           NaN                          NaN  ...     160.0   \n",
       "1                      8.590909                     2.554054  ...    2509.0   \n",
       "2                     25.157895                     6.128205  ...    1771.0   \n",
       "3                           NaN                          NaN  ...    1833.0   \n",
       "4                           NaN                          NaN  ...    1833.0   \n",
       "\n",
       "  total_user_sales_value item_quantity_per_week user_quantity_per_week  \\\n",
       "0                 413.70                    NaN               2.141176   \n",
       "1                6340.59                    NaN              35.705882   \n",
       "2                4853.50             188.282353              29.341176   \n",
       "3                5463.66                    NaN              27.341176   \n",
       "4                5463.66                    NaN              27.341176   \n",
       "\n",
       "  item_quantity_per_basket user_quantity_per_baskter item_freq_per_basket  \\\n",
       "0                      NaN                  0.000984                  NaN   \n",
       "1                      NaN                  0.016409                  NaN   \n",
       "2                 0.086525                  0.013484             0.049296   \n",
       "3                      NaN                  0.012565                  NaN   \n",
       "4                      NaN                  0.012565                  NaN   \n",
       "\n",
       "  user_freq_per_basket user_id  item_id  \n",
       "0             0.000865    1340   912987  \n",
       "1             0.013565     588  1024426  \n",
       "2             0.009575    2070   995242  \n",
       "3             0.009910    1602   827939  \n",
       "4             0.009910    1602   927712  \n",
       "\n",
       "[5 rows x 23 columns]"
      ]
     },
     "execution_count": 25,
     "metadata": {},
     "output_type": "execute_result"
    }
   ],
   "source": [
    "X_test = data_test[cat_feats + [\"user_id\", 'item_id']]\n",
    "X_test[cat_feats] = X_test[cat_feats].astype('category')\n",
    "X_test.head()"
   ]
  },
  {
   "cell_type": "markdown",
   "metadata": {},
   "source": [
    "### Получение рекомендаций и оценка precision@5 на тренировочном датасете"
   ]
  },
  {
   "cell_type": "code",
   "execution_count": 26,
   "metadata": {},
   "outputs": [],
   "source": [
    "df_predict = data_train_lvl_2.copy()"
   ]
  },
  {
   "cell_type": "code",
   "execution_count": 27,
   "metadata": {},
   "outputs": [],
   "source": [
    "df_predict['proba_item_purchase'] = train_preds[:,1]"
   ]
  },
  {
   "cell_type": "code",
   "execution_count": 28,
   "metadata": {},
   "outputs": [],
   "source": [
    "result_eval_ranker = data_val_lvl_2.groupby('user_id')['item_id'].unique().reset_index()\n",
    "result_eval_ranker.columns=['user_id', 'actual']"
   ]
  },
  {
   "cell_type": "code",
   "execution_count": 29,
   "metadata": {},
   "outputs": [],
   "source": [
    "result_eval_ranker['own_rec'] = result_eval_ranker['user_id'].apply(lambda x: recommender.get_own_recommendations(x, N=N_))"
   ]
  },
  {
   "cell_type": "code",
   "execution_count": 30,
   "metadata": {},
   "outputs": [
    {
     "data": {
      "text/plain": [
       "0.23644908616187793"
      ]
     },
     "execution_count": 30,
     "metadata": {},
     "output_type": "execute_result"
    }
   ],
   "source": [
    "result_eval_ranker.apply(lambda row: precision_at_k(row[\"own_rec\"], row[\"actual\"], k=5), axis=1).mean()"
   ]
  },
  {
   "cell_type": "code",
   "execution_count": 31,
   "metadata": {},
   "outputs": [],
   "source": [
    "def rerank(user_id):\n",
    "    return df_predict[df_predict['user_id']==user_id].sort_values('proba_item_purchase', ascending=False).head(5).item_id.tolist()"
   ]
  },
  {
   "cell_type": "code",
   "execution_count": 32,
   "metadata": {},
   "outputs": [],
   "source": [
    "result_eval_ranker['reranked_own_rec'] = result_eval_ranker[\"user_id\"].apply(lambda user_id: rerank(user_id))"
   ]
  },
  {
   "cell_type": "code",
   "execution_count": 33,
   "metadata": {},
   "outputs": [
    {
     "data": {
      "text/plain": [
       "0.30172323759791025"
      ]
     },
     "execution_count": 33,
     "metadata": {},
     "output_type": "execute_result"
    }
   ],
   "source": [
    "result_eval_ranker.apply(lambda row: precision_at_k(row[\"reranked_own_rec\"], row[\"actual\"], k=5), axis=1).mean()"
   ]
  },
  {
   "cell_type": "code",
   "execution_count": 34,
   "metadata": {},
   "outputs": [
    {
     "data": {
      "text/html": [
       "<div>\n",
       "<style scoped>\n",
       "    .dataframe tbody tr th:only-of-type {\n",
       "        vertical-align: middle;\n",
       "    }\n",
       "\n",
       "    .dataframe tbody tr th {\n",
       "        vertical-align: top;\n",
       "    }\n",
       "\n",
       "    .dataframe thead th {\n",
       "        text-align: right;\n",
       "    }\n",
       "</style>\n",
       "<table border=\"1\" class=\"dataframe\">\n",
       "  <thead>\n",
       "    <tr style=\"text-align: right;\">\n",
       "      <th></th>\n",
       "      <th>user_id</th>\n",
       "      <th>actual</th>\n",
       "      <th>own_rec</th>\n",
       "      <th>reranked_own_rec</th>\n",
       "    </tr>\n",
       "  </thead>\n",
       "  <tbody>\n",
       "    <tr>\n",
       "      <th>0</th>\n",
       "      <td>1</td>\n",
       "      <td>[821867, 834484, 856942, 865456, 889248, 90795...</td>\n",
       "      <td>[856942, 8090541, 1043064, 940947, 1075074, 93...</td>\n",
       "      <td>[1082185, 840361, 995242, 979707, 1025641]</td>\n",
       "    </tr>\n",
       "    <tr>\n",
       "      <th>1</th>\n",
       "      <td>6</td>\n",
       "      <td>[920308, 926804, 946489, 1006718, 1017061, 107...</td>\n",
       "      <td>[1119051, 13003092, 9911484, 8203834, 1108094,...</td>\n",
       "      <td>[1082185, 962568, 1116821, 845208, 1098844]</td>\n",
       "    </tr>\n",
       "  </tbody>\n",
       "</table>\n",
       "</div>"
      ],
      "text/plain": [
       "   user_id                                             actual  \\\n",
       "0        1  [821867, 834484, 856942, 865456, 889248, 90795...   \n",
       "1        6  [920308, 926804, 946489, 1006718, 1017061, 107...   \n",
       "\n",
       "                                             own_rec  \\\n",
       "0  [856942, 8090541, 1043064, 940947, 1075074, 93...   \n",
       "1  [1119051, 13003092, 9911484, 8203834, 1108094,...   \n",
       "\n",
       "                              reranked_own_rec  \n",
       "0   [1082185, 840361, 995242, 979707, 1025641]  \n",
       "1  [1082185, 962568, 1116821, 845208, 1098844]  "
      ]
     },
     "execution_count": 34,
     "metadata": {},
     "output_type": "execute_result"
    }
   ],
   "source": [
    "result_eval_ranker.head(2)"
   ]
  },
  {
   "cell_type": "markdown",
   "metadata": {},
   "source": [
    "# precision@5 на тренировочном датасете ~ 0.3 > 0.25"
   ]
  },
  {
   "cell_type": "markdown",
   "metadata": {},
   "source": [
    "#### Получение рекомендаций и формирование csv для тестового датасета"
   ]
  },
  {
   "cell_type": "code",
   "execution_count": 35,
   "metadata": {},
   "outputs": [],
   "source": [
    "test_preds = lgb.predict_proba(X_test)"
   ]
  },
  {
   "cell_type": "code",
   "execution_count": 36,
   "metadata": {},
   "outputs": [
    {
     "data": {
      "text/html": [
       "<div>\n",
       "<style scoped>\n",
       "    .dataframe tbody tr th:only-of-type {\n",
       "        vertical-align: middle;\n",
       "    }\n",
       "\n",
       "    .dataframe tbody tr th {\n",
       "        vertical-align: top;\n",
       "    }\n",
       "\n",
       "    .dataframe thead th {\n",
       "        text-align: right;\n",
       "    }\n",
       "</style>\n",
       "<table border=\"1\" class=\"dataframe\">\n",
       "  <thead>\n",
       "    <tr style=\"text-align: right;\">\n",
       "      <th></th>\n",
       "      <th>user_id</th>\n",
       "      <th>basket_id</th>\n",
       "      <th>day</th>\n",
       "      <th>item_id</th>\n",
       "      <th>quantity</th>\n",
       "      <th>sales_value</th>\n",
       "      <th>store_id</th>\n",
       "      <th>retail_disc</th>\n",
       "      <th>trans_time</th>\n",
       "      <th>week_no</th>\n",
       "      <th>...</th>\n",
       "      <th>item_freq</th>\n",
       "      <th>user_freq</th>\n",
       "      <th>total_user_sales_value</th>\n",
       "      <th>item_quantity_per_week</th>\n",
       "      <th>user_quantity_per_week</th>\n",
       "      <th>item_quantity_per_basket</th>\n",
       "      <th>user_quantity_per_baskter</th>\n",
       "      <th>item_freq_per_basket</th>\n",
       "      <th>user_freq_per_basket</th>\n",
       "      <th>proba_item_purchase</th>\n",
       "    </tr>\n",
       "  </thead>\n",
       "  <tbody>\n",
       "    <tr>\n",
       "      <th>0</th>\n",
       "      <td>1340</td>\n",
       "      <td>41652823310</td>\n",
       "      <td>664</td>\n",
       "      <td>912987</td>\n",
       "      <td>1</td>\n",
       "      <td>8.49</td>\n",
       "      <td>446</td>\n",
       "      <td>0.0</td>\n",
       "      <td>52</td>\n",
       "      <td>96</td>\n",
       "      <td>...</td>\n",
       "      <td>NaN</td>\n",
       "      <td>160.0</td>\n",
       "      <td>413.70</td>\n",
       "      <td>NaN</td>\n",
       "      <td>2.141176</td>\n",
       "      <td>NaN</td>\n",
       "      <td>0.000984</td>\n",
       "      <td>NaN</td>\n",
       "      <td>0.000865</td>\n",
       "      <td>0.010356</td>\n",
       "    </tr>\n",
       "    <tr>\n",
       "      <th>1</th>\n",
       "      <td>588</td>\n",
       "      <td>41652838477</td>\n",
       "      <td>664</td>\n",
       "      <td>1024426</td>\n",
       "      <td>1</td>\n",
       "      <td>6.29</td>\n",
       "      <td>388</td>\n",
       "      <td>0.0</td>\n",
       "      <td>8</td>\n",
       "      <td>96</td>\n",
       "      <td>...</td>\n",
       "      <td>NaN</td>\n",
       "      <td>2509.0</td>\n",
       "      <td>6340.59</td>\n",
       "      <td>NaN</td>\n",
       "      <td>35.705882</td>\n",
       "      <td>NaN</td>\n",
       "      <td>0.016409</td>\n",
       "      <td>NaN</td>\n",
       "      <td>0.013565</td>\n",
       "      <td>0.038478</td>\n",
       "    </tr>\n",
       "  </tbody>\n",
       "</table>\n",
       "<p>2 rows × 34 columns</p>\n",
       "</div>"
      ],
      "text/plain": [
       "   user_id    basket_id  day  item_id  quantity  sales_value  store_id  \\\n",
       "0     1340  41652823310  664   912987         1         8.49       446   \n",
       "1      588  41652838477  664  1024426         1         6.29       388   \n",
       "\n",
       "   retail_disc  trans_time  week_no  ...  item_freq  user_freq  \\\n",
       "0          0.0          52       96  ...        NaN      160.0   \n",
       "1          0.0           8       96  ...        NaN     2509.0   \n",
       "\n",
       "  total_user_sales_value item_quantity_per_week user_quantity_per_week  \\\n",
       "0                 413.70                    NaN               2.141176   \n",
       "1                6340.59                    NaN              35.705882   \n",
       "\n",
       "  item_quantity_per_basket user_quantity_per_baskter item_freq_per_basket  \\\n",
       "0                      NaN                  0.000984                  NaN   \n",
       "1                      NaN                  0.016409                  NaN   \n",
       "\n",
       "  user_freq_per_basket  proba_item_purchase  \n",
       "0             0.000865             0.010356  \n",
       "1             0.013565             0.038478  \n",
       "\n",
       "[2 rows x 34 columns]"
      ]
     },
     "execution_count": 36,
     "metadata": {},
     "output_type": "execute_result"
    }
   ],
   "source": [
    "df_test_predict = data_test.copy()\n",
    "df_test_predict['proba_item_purchase'] = test_preds[:,1]\n",
    "df_test_predict.head(2)"
   ]
  },
  {
   "cell_type": "code",
   "execution_count": 37,
   "metadata": {},
   "outputs": [],
   "source": [
    "def rerank(user_id):\n",
    "    return df_test_predict[df_test_predict['user_id']==user_id].sort_values('proba_item_purchase', ascending=False).head(5).item_id.tolist()"
   ]
  },
  {
   "cell_type": "code",
   "execution_count": 38,
   "metadata": {},
   "outputs": [],
   "source": [
    "result = df_test_predict.groupby('user_id')['item_id'].unique().reset_index()\n",
    "result.columns=['user_id', 'actual']\n",
    "result['own_rec'] = result_eval_ranker['user_id'].apply(lambda x: recommender.get_own_recommendations(x, N=N_))"
   ]
  },
  {
   "cell_type": "code",
   "execution_count": 39,
   "metadata": {},
   "outputs": [
    {
     "data": {
      "text/html": [
       "<div>\n",
       "<style scoped>\n",
       "    .dataframe tbody tr th:only-of-type {\n",
       "        vertical-align: middle;\n",
       "    }\n",
       "\n",
       "    .dataframe tbody tr th {\n",
       "        vertical-align: top;\n",
       "    }\n",
       "\n",
       "    .dataframe thead th {\n",
       "        text-align: right;\n",
       "    }\n",
       "</style>\n",
       "<table border=\"1\" class=\"dataframe\">\n",
       "  <thead>\n",
       "    <tr style=\"text-align: right;\">\n",
       "      <th></th>\n",
       "      <th>user_id</th>\n",
       "      <th>rec</th>\n",
       "    </tr>\n",
       "  </thead>\n",
       "  <tbody>\n",
       "    <tr>\n",
       "      <th>0</th>\n",
       "      <td>1</td>\n",
       "      <td>[880007, 976335, 15800711, 13877012, 12330539]</td>\n",
       "    </tr>\n",
       "    <tr>\n",
       "      <th>1</th>\n",
       "      <td>2</td>\n",
       "      <td>[1006474, 960791, 988044, 820291, 1037965]</td>\n",
       "    </tr>\n",
       "  </tbody>\n",
       "</table>\n",
       "</div>"
      ],
      "text/plain": [
       "   user_id                                             rec\n",
       "0        1  [880007, 976335, 15800711, 13877012, 12330539]\n",
       "1        2      [1006474, 960791, 988044, 820291, 1037965]"
      ]
     },
     "execution_count": 39,
     "metadata": {},
     "output_type": "execute_result"
    }
   ],
   "source": [
    "result['rec'] = result[\"user_id\"].apply(lambda user_id: rerank(user_id))\n",
    "result[['user_id','rec']].head(2)"
   ]
  },
  {
   "cell_type": "code",
   "execution_count": 40,
   "metadata": {},
   "outputs": [],
   "source": [
    "result[['user_id','rec']].to_csv('recommendations.csv')"
   ]
  }
 ],
 "metadata": {
  "colab": {
   "name": "hw_webinar_6.ipynb",
   "provenance": []
  },
  "kernelspec": {
   "display_name": "Python 3 (ipykernel)",
   "language": "python",
   "name": "python3"
  },
  "language_info": {
   "codemirror_mode": {
    "name": "ipython",
    "version": 3
   },
   "file_extension": ".py",
   "mimetype": "text/x-python",
   "name": "python",
   "nbconvert_exporter": "python",
   "pygments_lexer": "ipython3",
   "version": "3.9.12"
  }
 },
 "nbformat": 4,
 "nbformat_minor": 1
}
